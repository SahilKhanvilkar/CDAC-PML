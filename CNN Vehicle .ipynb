{
 "cells": [
  {
   "cell_type": "code",
   "execution_count": 1,
   "metadata": {},
   "outputs": [],
   "source": [
    "import tensorflow as tf\n",
    "from tensorflow.keras.models import Sequential\n",
    "from tensorflow.keras.layers import Conv2D, MaxPooling2D, Flatten, Dense, Dropout\n",
    "import numpy as np\n",
    "import pandas as pd\n",
    "import matplotlib.pyplot as plt\n",
    "from tensorflow.keras.preprocessing.image import ImageDataGenerator\n",
    "from PIL import ImageFile, Image\n",
    "ImageFile.LOAD_TRUNCATED_IMAGES = True"
   ]
  },
  {
   "cell_type": "code",
   "execution_count": 2,
   "metadata": {},
   "outputs": [
    {
     "name": "stdout",
     "output_type": "stream",
     "text": [
      "Found 1490 images belonging to 5 classes.\n",
      "Found 521 images belonging to 5 classes.\n"
     ]
    }
   ],
   "source": [
    "# Generate batches of tensor image data with real-time data augmentation.\n",
    "datagen = ImageDataGenerator(rescale=1./255)\n",
    "\n",
    "training_set=datagen.flow_from_directory(r\"E:\\ml1\\train\",\n",
    "                                                target_size=(64,64), \n",
    "                                               batch_size=100,\n",
    "                                               class_mode = 'categorical')\n",
    "test_set=datagen.flow_from_directory(r\"E:\\ml1\\test\",\n",
    "                                                target_size=(64,64), \n",
    "                                               batch_size=100,\n",
    "                                               class_mode = 'categorical')\n"
   ]
  },
  {
   "cell_type": "code",
   "execution_count": 4,
   "metadata": {},
   "outputs": [
    {
     "name": "stdout",
     "output_type": "stream",
     "text": [
      "Model: \"sequential_1\"\n",
      "_________________________________________________________________\n",
      " Layer (type)                Output Shape              Param #   \n",
      "=================================================================\n",
      " conv2d_3 (Conv2D)           (None, 62, 62, 32)        896       \n",
      "                                                                 \n",
      " max_pooling2d_3 (MaxPooling  (None, 31, 31, 32)       0         \n",
      " 2D)                                                             \n",
      "                                                                 \n",
      " conv2d_4 (Conv2D)           (None, 29, 29, 64)        18496     \n",
      "                                                                 \n",
      " max_pooling2d_4 (MaxPooling  (None, 14, 14, 64)       0         \n",
      " 2D)                                                             \n",
      "                                                                 \n",
      " dropout_1 (Dropout)         (None, 14, 14, 64)        0         \n",
      "                                                                 \n",
      " conv2d_5 (Conv2D)           (None, 12, 12, 128)       73856     \n",
      "                                                                 \n",
      " max_pooling2d_5 (MaxPooling  (None, 6, 6, 128)        0         \n",
      " 2D)                                                             \n",
      "                                                                 \n",
      " flatten_1 (Flatten)         (None, 4608)              0         \n",
      "                                                                 \n",
      " dense_2 (Dense)             (None, 256)               1179904   \n",
      "                                                                 \n",
      " dense_3 (Dense)             (None, 5)                 1285      \n",
      "                                                                 \n",
      "=================================================================\n",
      "Total params: 1,274,437\n",
      "Trainable params: 1,274,437\n",
      "Non-trainable params: 0\n",
      "_________________________________________________________________\n"
     ]
    }
   ],
   "source": [
    "model = Sequential()\n",
    "model.add(Conv2D(32,(3,3), input_shape=(64,64,3)))\n",
    "model.add(MaxPooling2D(2,2))\n",
    "model.add(Conv2D(64, (3,3),activation='relu'))\n",
    "model.add(MaxPooling2D(2,2))\n",
    "model.add(Dropout(0.3))\n",
    "model.add(Conv2D(128, (3,3),activation='relu'))\n",
    "model.add(MaxPooling2D(2,2))\n",
    "model.add(Flatten())\n",
    "model.add(Dense(256, activation='relu'))\n",
    "model.add(Dense(5, activation='softmax'))\n",
    "model.summary()"
   ]
  },
  {
   "cell_type": "code",
   "execution_count": 5,
   "metadata": {},
   "outputs": [],
   "source": [
    "from tensorflow.keras.callbacks import EarlyStopping"
   ]
  },
  {
   "cell_type": "code",
   "execution_count": 6,
   "metadata": {},
   "outputs": [],
   "source": [
    "early_stopping= EarlyStopping(monitor='accuracy',patience =3)"
   ]
  },
  {
   "cell_type": "code",
   "execution_count": 7,
   "metadata": {},
   "outputs": [],
   "source": [
    "model.compile(optimizer='adam', loss='categorical_crossentropy',metrics=['accuracy'])\n",
    "\n",
    "\n",
    "# model.compile(optimizer='adam',loss=tf.keras.losses.SparseCategoricalCrossentropy(from_logits=False),metrics=['accuracy'])"
   ]
  },
  {
   "cell_type": "code",
   "execution_count": 8,
   "metadata": {},
   "outputs": [
    {
     "name": "stdout",
     "output_type": "stream",
     "text": [
      "Epoch 1/30\n",
      " 1/15 [=>............................] - ETA: 18s - loss: 1.6387 - accuracy: 0.1600"
     ]
    },
    {
     "name": "stderr",
     "output_type": "stream",
     "text": [
      "C:\\Users\\SAHIL\\anaconda3\\lib\\site-packages\\PIL\\Image.py:996: UserWarning: Palette images with Transparency expressed in bytes should be converted to RGBA images\n",
      "  warnings.warn(\n"
     ]
    },
    {
     "name": "stdout",
     "output_type": "stream",
     "text": [
      "15/15 [==============================] - 10s 633ms/step - loss: 1.6111 - accuracy: 0.3537 - val_loss: 1.4969 - val_accuracy: 0.5010\n",
      "Epoch 2/30\n",
      "15/15 [==============================] - 9s 610ms/step - loss: 1.0957 - accuracy: 0.6282 - val_loss: 0.8738 - val_accuracy: 0.6871\n",
      "Epoch 3/30\n",
      "15/15 [==============================] - 8s 573ms/step - loss: 0.7146 - accuracy: 0.7383 - val_loss: 0.7516 - val_accuracy: 0.7083\n",
      "Epoch 4/30\n",
      "15/15 [==============================] - 9s 584ms/step - loss: 0.5757 - accuracy: 0.8074 - val_loss: 0.6563 - val_accuracy: 0.7678\n",
      "Epoch 5/30\n",
      "15/15 [==============================] - 9s 580ms/step - loss: 0.4977 - accuracy: 0.8221 - val_loss: 0.6309 - val_accuracy: 0.7754\n",
      "Epoch 6/30\n",
      "15/15 [==============================] - 9s 593ms/step - loss: 0.3882 - accuracy: 0.8658 - val_loss: 0.5824 - val_accuracy: 0.7831\n",
      "Epoch 7/30\n",
      "15/15 [==============================] - 9s 607ms/step - loss: 0.3381 - accuracy: 0.8779 - val_loss: 0.5157 - val_accuracy: 0.7985\n",
      "Epoch 8/30\n",
      "15/15 [==============================] - 9s 559ms/step - loss: 0.2986 - accuracy: 0.8913 - val_loss: 0.5856 - val_accuracy: 0.7889\n",
      "Epoch 9/30\n",
      "15/15 [==============================] - 9s 585ms/step - loss: 0.2717 - accuracy: 0.9067 - val_loss: 0.5525 - val_accuracy: 0.7965\n",
      "Epoch 10/30\n",
      "15/15 [==============================] - 9s 616ms/step - loss: 0.2235 - accuracy: 0.9275 - val_loss: 0.5044 - val_accuracy: 0.8157\n",
      "Epoch 11/30\n",
      "15/15 [==============================] - 9s 591ms/step - loss: 0.1784 - accuracy: 0.9396 - val_loss: 0.5079 - val_accuracy: 0.8138\n",
      "Epoch 12/30\n",
      "15/15 [==============================] - 9s 625ms/step - loss: 0.1692 - accuracy: 0.9483 - val_loss: 0.5407 - val_accuracy: 0.8042\n",
      "Epoch 13/30\n",
      "15/15 [==============================] - 9s 607ms/step - loss: 0.1395 - accuracy: 0.9530 - val_loss: 0.5635 - val_accuracy: 0.8234\n",
      "Epoch 14/30\n",
      "15/15 [==============================] - 9s 554ms/step - loss: 0.1126 - accuracy: 0.9658 - val_loss: 0.6641 - val_accuracy: 0.7889\n",
      "Epoch 15/30\n",
      "15/15 [==============================] - 9s 569ms/step - loss: 0.1089 - accuracy: 0.9705 - val_loss: 0.6339 - val_accuracy: 0.8061\n",
      "Epoch 16/30\n",
      "15/15 [==============================] - 9s 598ms/step - loss: 0.0830 - accuracy: 0.9772 - val_loss: 0.5820 - val_accuracy: 0.8196\n",
      "Epoch 17/30\n",
      "15/15 [==============================] - 9s 590ms/step - loss: 0.0537 - accuracy: 0.9866 - val_loss: 0.6593 - val_accuracy: 0.8177\n",
      "Epoch 18/30\n",
      "15/15 [==============================] - 9s 589ms/step - loss: 0.0525 - accuracy: 0.9872 - val_loss: 0.6075 - val_accuracy: 0.8311\n",
      "Epoch 19/30\n",
      "15/15 [==============================] - 10s 684ms/step - loss: 0.0380 - accuracy: 0.9919 - val_loss: 0.7992 - val_accuracy: 0.7927\n",
      "Epoch 20/30\n",
      "15/15 [==============================] - 9s 622ms/step - loss: 0.0382 - accuracy: 0.9899 - val_loss: 0.7098 - val_accuracy: 0.8177\n",
      "Epoch 21/30\n",
      "15/15 [==============================] - 9s 633ms/step - loss: 0.0398 - accuracy: 0.9886 - val_loss: 0.7973 - val_accuracy: 0.8100\n",
      "Epoch 22/30\n",
      "15/15 [==============================] - 10s 644ms/step - loss: 0.0334 - accuracy: 0.9919 - val_loss: 0.6584 - val_accuracy: 0.8426\n"
     ]
    },
    {
     "data": {
      "text/plain": [
       "<keras.callbacks.History at 0x1eeb5e8d9f0>"
      ]
     },
     "execution_count": 8,
     "metadata": {},
     "output_type": "execute_result"
    }
   ],
   "source": [
    "model.fit(training_set, epochs=30, validation_data=test_set,callbacks=[early_stopping])"
   ]
  },
  {
   "cell_type": "code",
   "execution_count": 9,
   "metadata": {},
   "outputs": [],
   "source": [
    "from tensorflow.keras.preprocessing import image"
   ]
  },
  {
   "cell_type": "code",
   "execution_count": 47,
   "metadata": {},
   "outputs": [
    {
     "ename": "FileNotFoundError",
     "evalue": "[Errno 2] No such file or directory: 'E:\\\\ml\\\\28.jpg'",
     "output_type": "error",
     "traceback": [
      "\u001b[1;31m---------------------------------------------------------------------------\u001b[0m",
      "\u001b[1;31mFileNotFoundError\u001b[0m                         Traceback (most recent call last)",
      "Cell \u001b[1;32mIn[47], line 1\u001b[0m\n\u001b[1;32m----> 1\u001b[0m img \u001b[38;5;241m=\u001b[39m \u001b[43mimage\u001b[49m\u001b[38;5;241;43m.\u001b[39;49m\u001b[43mload_img\u001b[49m\u001b[43m(\u001b[49m\u001b[38;5;124;43mr\u001b[39;49m\u001b[38;5;124;43m\"\u001b[39;49m\u001b[38;5;124;43mE:\u001b[39;49m\u001b[38;5;124;43m\\\u001b[39;49m\u001b[38;5;124;43mml\u001b[39;49m\u001b[38;5;124;43m\\\u001b[39;49m\u001b[38;5;124;43m28.jpg\u001b[39;49m\u001b[38;5;124;43m\"\u001b[39;49m\u001b[43m,\u001b[49m\n\u001b[0;32m      2\u001b[0m \u001b[43m                    \u001b[49m\u001b[43mtarget_size\u001b[49m\u001b[43m \u001b[49m\u001b[38;5;241;43m=\u001b[39;49m\u001b[43m \u001b[49m\u001b[43m(\u001b[49m\u001b[38;5;241;43m64\u001b[39;49m\u001b[43m,\u001b[49m\u001b[38;5;241;43m64\u001b[39;49m\u001b[43m)\u001b[49m\u001b[43m)\u001b[49m\n\u001b[0;32m      3\u001b[0m plt\u001b[38;5;241m.\u001b[39mimshow(img);\n\u001b[0;32m      4\u001b[0m test_img \u001b[38;5;241m=\u001b[39m np\u001b[38;5;241m.\u001b[39masarray(img)\n",
      "File \u001b[1;32m~\\anaconda3\\lib\\site-packages\\keras\\utils\\image_utils.py:422\u001b[0m, in \u001b[0;36mload_img\u001b[1;34m(path, grayscale, color_mode, target_size, interpolation, keep_aspect_ratio)\u001b[0m\n\u001b[0;32m    420\u001b[0m     \u001b[38;5;28;01mif\u001b[39;00m \u001b[38;5;28misinstance\u001b[39m(path, pathlib\u001b[38;5;241m.\u001b[39mPath):\n\u001b[0;32m    421\u001b[0m         path \u001b[38;5;241m=\u001b[39m \u001b[38;5;28mstr\u001b[39m(path\u001b[38;5;241m.\u001b[39mresolve())\n\u001b[1;32m--> 422\u001b[0m     \u001b[38;5;28;01mwith\u001b[39;00m \u001b[38;5;28;43mopen\u001b[39;49m\u001b[43m(\u001b[49m\u001b[43mpath\u001b[49m\u001b[43m,\u001b[49m\u001b[43m \u001b[49m\u001b[38;5;124;43m\"\u001b[39;49m\u001b[38;5;124;43mrb\u001b[39;49m\u001b[38;5;124;43m\"\u001b[39;49m\u001b[43m)\u001b[49m \u001b[38;5;28;01mas\u001b[39;00m f:\n\u001b[0;32m    423\u001b[0m         img \u001b[38;5;241m=\u001b[39m pil_image\u001b[38;5;241m.\u001b[39mopen(io\u001b[38;5;241m.\u001b[39mBytesIO(f\u001b[38;5;241m.\u001b[39mread()))\n\u001b[0;32m    424\u001b[0m \u001b[38;5;28;01melse\u001b[39;00m:\n",
      "\u001b[1;31mFileNotFoundError\u001b[0m: [Errno 2] No such file or directory: 'E:\\\\ml\\\\28.jpg'"
     ]
    }
   ],
   "source": [
    "img = image.load_img(r\"E:\\ml\\28.jpg\",\n",
    "                    target_size = (64,64))\n",
    "plt.imshow(img);\n",
    "test_img = np.asarray(img)\n",
    "test_img = test_img.reshape(1,64,64,3)\n",
    "yhat=model.predict(test_img)\n",
    "if(np.argmax(yhat))==0:\n",
    "    print(\"Bike\")\n",
    "if(np.argmax(yhat))==1:\n",
    "    print(\"Heavy\")\n",
    "if(np.argmax(yhat))==2:\n",
    "    print(\"Cycle\")\n",
    "if(np.argmax(yhat))==3:\n",
    "    print(\"Sedan\")\n",
    "if(np.argmax(yhat))==4:\n",
    "    print(\"SUV\")"
   ]
  },
  {
   "cell_type": "code",
   "execution_count": 26,
   "metadata": {},
   "outputs": [
    {
     "name": "stdout",
     "output_type": "stream",
     "text": [
      "1/1 [==============================] - 0s 20ms/step\n",
      "Heavy\n"
     ]
    },
    {
     "data": {
      "image/png": "[encoded data removed]",
      "text/plain": [
       "<Figure size 640x480 with 1 Axes>"
      ]
     },
     "metadata": {},
     "output_type": "display_data"
    }
   ],
   "source": [
    "img = image.load_img(r\"E:\\ml\\5483_35_2.png\",\n",
    "                    target_size = (64,64))\n",
    "plt.imshow(img);\n",
    "test_img = np.asarray(img)\n",
    "test_img = test_img.reshape(1,64,64,3)\n",
    "yhat=model.predict(test_img)\n",
    "if(np.argmax(yhat))==0:\n",
    "    print(\"Bike\")\n",
    "if(np.argmax(yhat))==1:\n",
    "    print(\"Heavy\")\n",
    "if(np.argmax(yhat))==2:\n",
    "    print(\"Cycle\")\n",
    "if(np.argmax(yhat))==3:\n",
    "    print(\"Sedan\")\n",
    "if(np.argmax(yhat))==4:\n",
    "    print(\"SUV\")"
   ]
  },
  {
   "cell_type": "code",
   "execution_count": 52,
   "metadata": {},
   "outputs": [
    {
     "name": "stdout",
     "output_type": "stream",
     "text": [
      "1/1 [==============================] - 0s 33ms/step\n",
      "Sedan\n"
     ]
    },
    {
     "data": {
      "image/png": "[encoded data removed]",
      "text/plain": [
       "<Figure size 640x480 with 1 Axes>"
      ]
     },
     "metadata": {},
     "output_type": "display_data"
    }
   ],
   "source": [
    "img = image.load_img(r\"E:\\sample\\sedan.jpg\",\n",
    "                    target_size = (64,64))\n",
    "plt.imshow(img);\n",
    "test_img = np.asarray(img)\n",
    "test_img = test_img.reshape(1,64,64,3)\n",
    "yhat=model.predict(test_img)\n",
    "if(np.argmax(yhat))==0:\n",
    "    print(\"Bike\")\n",
    "if(np.argmax(yhat))==1:\n",
    "    print(\"Heavy\")\n",
    "if(np.argmax(yhat))==2:\n",
    "    print(\"Cycle\")\n",
    "if(np.argmax(yhat))==3: \n",
    "    print(\"Sedan\")\n",
    "if(np.argmax(yhat))==4:\n",
    "    print(\"SUV\")"
   ]
  },
  {
   "cell_type": "code",
   "execution_count": 35,
   "metadata": {},
   "outputs": [],
   "source": []
  },
  {
   "cell_type": "code",
   "execution_count": null,
   "metadata": {},
   "outputs": [],
   "source": []
  }
 ],
 "metadata": {
  "kernelspec": {
   "display_name": "Python 3 (ipykernel)",
   "language": "python",
   "name": "python3"
  },
  "language_info": {
   "codemirror_mode": {
    "name": "ipython",
    "version": 3
   },
   "file_extension": ".py",
   "mimetype": "text/x-python",
   "name": "python",
   "nbconvert_exporter": "python",
   "pygments_lexer": "ipython3",
   "version": "3.10.9"
  }
 },
 "nbformat": 4,
 "nbformat_minor": 2
}
